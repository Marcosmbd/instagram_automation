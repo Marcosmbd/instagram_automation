{
 "cells": [
  {
   "attachments": {},
   "cell_type": "markdown",
   "metadata": {},
   "source": [
    "##### Importando módulos"
   ]
  },
  {
   "cell_type": "code",
   "execution_count": null,
   "metadata": {},
   "outputs": [],
   "source": [
    "from selenium import webdriver\n",
    "from selenium.webdriver.common.by import By\n",
    "from selenium.webdriver.common.keys import Keys\n",
    "from selenium.webdriver.support.wait import WebDriverWait\n",
    "from selenium.webdriver.support import expected_conditions as EC\n",
    "import time"
   ]
  },
  {
   "attachments": {},
   "cell_type": "markdown",
   "metadata": {},
   "source": [
    "##### Basta inserir login e executar.<br>\n",
    "##### A automação irá seguir aproximadamente 30 pessoas por vez,<br>\n",
    "##### mas cuidado, pois isso pode bloquear seu acesso.<br>\n",
    "##### Este projeto foi desenvolvido apenas para fins acadêmicos."
   ]
  },
  {
   "cell_type": "code",
   "execution_count": null,
   "metadata": {},
   "outputs": [],
   "source": [
    "username = 'Login'\n",
    "password = 'Senha'\n",
    "\n",
    "driver = webdriver.Chrome()\n",
    "driver.get('https://www.instagram.com/')\n",
    "driver.set_window_size(5000,5000)\n",
    "driver.set_window_position(-10000,0)\n",
    "\n",
    "wait = WebDriverWait(driver, 10)\n",
    "\n",
    "wait.until(EC.presence_of_element_located((By.NAME,'username')))\n",
    "driver.find_element(By.NAME,'username').send_keys(username)\n",
    "driver.find_element(By.NAME,'password').send_keys(password, Keys.ENTER)\n",
    "time.sleep(3)\n",
    "\n",
    "if EC.presence_of_element_located((By.CLASS_NAME,'_acan._acao._acas._aj1-')):\n",
    "    driver.find_element(By.CLASS_NAME,'_acan._acao._acas._aj1-').click()\n",
    "else:\n",
    "    pass\n",
    "\n",
    "wait.until(EC.presence_of_element_located((By.CLASS_NAME,'_a9--._a9_1')))\n",
    "driver.find_element(By.CLASS_NAME,'_a9--._a9_1').click()\n",
    "\n",
    "wait.until(EC.presence_of_element_located((By.CLASS_NAME,'_aacl._aacn._aacw._aacx._aad6')))\n",
    "driver.find_element(By.CLASS_NAME,'_aacl._aacn._aacw._aacx._aad6').click()\n",
    "\n",
    "wait.until(EC.presence_of_element_located((By.CLASS_NAME,'_acan._acap._acas._aj1-')))\n",
    "\n",
    "try:\n",
    "    while driver.find_element(By.CLASS_NAME,'_acan._acap._acas._aj1-'):\n",
    "        driver.find_element(By.CLASS_NAME,'_acan._acap._acas._aj1-').click()\n",
    "        time.sleep(4)\n",
    "except:\n",
    "    driver.quit()"
   ]
  }
 ],
 "metadata": {
  "kernelspec": {
   "display_name": "Python 3",
   "language": "python",
   "name": "python3"
  },
  "language_info": {
   "codemirror_mode": {
    "name": "ipython",
    "version": 3
   },
   "file_extension": ".py",
   "mimetype": "text/x-python",
   "name": "python",
   "nbconvert_exporter": "python",
   "pygments_lexer": "ipython3",
   "version": "3.10.8"
  },
  "orig_nbformat": 4,
  "vscode": {
   "interpreter": {
    "hash": "afb734500600fd355917ca529030176ea0ca205570884b88f2f6f7d791fd3fbe"
   }
  }
 },
 "nbformat": 4,
 "nbformat_minor": 2
}
